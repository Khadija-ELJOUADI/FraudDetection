{
 "cells": [
  {
   "cell_type": "code",
   "execution_count": 33,
   "metadata": {},
   "outputs": [],
   "source": [
    "from matplotlib import pyplot as plt\n",
    "import seaborn as sns\n",
    "from sklearn.linear_model import LogisticRegression\n",
    "from sklearn.model_selection import train_test_split\n",
    "from sklearn.metrics import confusion_matrix, accuracy_score, recall_score, precision_score, f1_score\n",
    "import pandas as pd\n",
    "from sklearn.naive_bayes import GaussianNB"
   ]
  },
  {
   "cell_type": "code",
   "execution_count": 71,
   "metadata": {},
   "outputs": [
    {
     "data": {
      "text/html": [
       "<div>\n",
       "<style scoped>\n",
       "    .dataframe tbody tr th:only-of-type {\n",
       "        vertical-align: middle;\n",
       "    }\n",
       "\n",
       "    .dataframe tbody tr th {\n",
       "        vertical-align: top;\n",
       "    }\n",
       "\n",
       "    .dataframe thead th {\n",
       "        text-align: right;\n",
       "    }\n",
       "</style>\n",
       "<table border=\"1\" class=\"dataframe\">\n",
       "  <thead>\n",
       "    <tr style=\"text-align: right;\">\n",
       "      <th></th>\n",
       "      <th>step</th>\n",
       "      <th>type</th>\n",
       "      <th>amount</th>\n",
       "      <th>nameOrig</th>\n",
       "      <th>oldbalanceOrg</th>\n",
       "      <th>newbalanceOrig</th>\n",
       "      <th>nameDest</th>\n",
       "      <th>oldbalanceDest</th>\n",
       "      <th>newbalanceDest</th>\n",
       "      <th>isFraud</th>\n",
       "      <th>isFlaggedFraud</th>\n",
       "    </tr>\n",
       "  </thead>\n",
       "  <tbody>\n",
       "    <tr>\n",
       "      <th>0</th>\n",
       "      <td>1</td>\n",
       "      <td>PAYMENT</td>\n",
       "      <td>9839.64</td>\n",
       "      <td>C1231006815</td>\n",
       "      <td>170136.0</td>\n",
       "      <td>160296.36</td>\n",
       "      <td>M1979787155</td>\n",
       "      <td>0.0</td>\n",
       "      <td>0.0</td>\n",
       "      <td>0</td>\n",
       "      <td>0</td>\n",
       "    </tr>\n",
       "    <tr>\n",
       "      <th>1</th>\n",
       "      <td>1</td>\n",
       "      <td>PAYMENT</td>\n",
       "      <td>1864.28</td>\n",
       "      <td>C1666544295</td>\n",
       "      <td>21249.0</td>\n",
       "      <td>19384.72</td>\n",
       "      <td>M2044282225</td>\n",
       "      <td>0.0</td>\n",
       "      <td>0.0</td>\n",
       "      <td>0</td>\n",
       "      <td>0</td>\n",
       "    </tr>\n",
       "    <tr>\n",
       "      <th>2</th>\n",
       "      <td>1</td>\n",
       "      <td>TRANSFER</td>\n",
       "      <td>181.00</td>\n",
       "      <td>C1305486145</td>\n",
       "      <td>181.0</td>\n",
       "      <td>0.00</td>\n",
       "      <td>C553264065</td>\n",
       "      <td>0.0</td>\n",
       "      <td>0.0</td>\n",
       "      <td>1</td>\n",
       "      <td>0</td>\n",
       "    </tr>\n",
       "    <tr>\n",
       "      <th>3</th>\n",
       "      <td>1</td>\n",
       "      <td>CASH_OUT</td>\n",
       "      <td>181.00</td>\n",
       "      <td>C840083671</td>\n",
       "      <td>181.0</td>\n",
       "      <td>0.00</td>\n",
       "      <td>C38997010</td>\n",
       "      <td>21182.0</td>\n",
       "      <td>0.0</td>\n",
       "      <td>1</td>\n",
       "      <td>0</td>\n",
       "    </tr>\n",
       "    <tr>\n",
       "      <th>4</th>\n",
       "      <td>1</td>\n",
       "      <td>PAYMENT</td>\n",
       "      <td>11668.14</td>\n",
       "      <td>C2048537720</td>\n",
       "      <td>41554.0</td>\n",
       "      <td>29885.86</td>\n",
       "      <td>M1230701703</td>\n",
       "      <td>0.0</td>\n",
       "      <td>0.0</td>\n",
       "      <td>0</td>\n",
       "      <td>0</td>\n",
       "    </tr>\n",
       "    <tr>\n",
       "      <th>...</th>\n",
       "      <td>...</td>\n",
       "      <td>...</td>\n",
       "      <td>...</td>\n",
       "      <td>...</td>\n",
       "      <td>...</td>\n",
       "      <td>...</td>\n",
       "      <td>...</td>\n",
       "      <td>...</td>\n",
       "      <td>...</td>\n",
       "      <td>...</td>\n",
       "      <td>...</td>\n",
       "    </tr>\n",
       "    <tr>\n",
       "      <th>9995</th>\n",
       "      <td>7</td>\n",
       "      <td>PAYMENT</td>\n",
       "      <td>466.73</td>\n",
       "      <td>C517929856</td>\n",
       "      <td>881.0</td>\n",
       "      <td>414.27</td>\n",
       "      <td>M2128130537</td>\n",
       "      <td>0.0</td>\n",
       "      <td>0.0</td>\n",
       "      <td>0</td>\n",
       "      <td>0</td>\n",
       "    </tr>\n",
       "    <tr>\n",
       "      <th>9996</th>\n",
       "      <td>7</td>\n",
       "      <td>PAYMENT</td>\n",
       "      <td>8239.66</td>\n",
       "      <td>C1483641522</td>\n",
       "      <td>11515.0</td>\n",
       "      <td>3275.34</td>\n",
       "      <td>M1108211033</td>\n",
       "      <td>0.0</td>\n",
       "      <td>0.0</td>\n",
       "      <td>0</td>\n",
       "      <td>0</td>\n",
       "    </tr>\n",
       "    <tr>\n",
       "      <th>9997</th>\n",
       "      <td>7</td>\n",
       "      <td>PAYMENT</td>\n",
       "      <td>6063.34</td>\n",
       "      <td>C728110179</td>\n",
       "      <td>31409.0</td>\n",
       "      <td>25345.66</td>\n",
       "      <td>M277524255</td>\n",
       "      <td>0.0</td>\n",
       "      <td>0.0</td>\n",
       "      <td>0</td>\n",
       "      <td>0</td>\n",
       "    </tr>\n",
       "    <tr>\n",
       "      <th>9998</th>\n",
       "      <td>7</td>\n",
       "      <td>TRANSFER</td>\n",
       "      <td>317806.64</td>\n",
       "      <td>C1021138110</td>\n",
       "      <td>10901.0</td>\n",
       "      <td>0.00</td>\n",
       "      <td>C1935506329</td>\n",
       "      <td>103168.0</td>\n",
       "      <td>0.0</td>\n",
       "      <td>0</td>\n",
       "      <td>0</td>\n",
       "    </tr>\n",
       "    <tr>\n",
       "      <th>9999</th>\n",
       "      <td>7</td>\n",
       "      <td>PAYMENT</td>\n",
       "      <td>5096.16</td>\n",
       "      <td>C299358529</td>\n",
       "      <td>60472.0</td>\n",
       "      <td>55375.84</td>\n",
       "      <td>M176755220</td>\n",
       "      <td>0.0</td>\n",
       "      <td>0.0</td>\n",
       "      <td>0</td>\n",
       "      <td>0</td>\n",
       "    </tr>\n",
       "  </tbody>\n",
       "</table>\n",
       "<p>10000 rows × 11 columns</p>\n",
       "</div>"
      ],
      "text/plain": [
       "      step      type     amount     nameOrig  oldbalanceOrg  newbalanceOrig  \\\n",
       "0        1   PAYMENT    9839.64  C1231006815       170136.0       160296.36   \n",
       "1        1   PAYMENT    1864.28  C1666544295        21249.0        19384.72   \n",
       "2        1  TRANSFER     181.00  C1305486145          181.0            0.00   \n",
       "3        1  CASH_OUT     181.00   C840083671          181.0            0.00   \n",
       "4        1   PAYMENT   11668.14  C2048537720        41554.0        29885.86   \n",
       "...    ...       ...        ...          ...            ...             ...   \n",
       "9995     7   PAYMENT     466.73   C517929856          881.0          414.27   \n",
       "9996     7   PAYMENT    8239.66  C1483641522        11515.0         3275.34   \n",
       "9997     7   PAYMENT    6063.34   C728110179        31409.0        25345.66   \n",
       "9998     7  TRANSFER  317806.64  C1021138110        10901.0            0.00   \n",
       "9999     7   PAYMENT    5096.16   C299358529        60472.0        55375.84   \n",
       "\n",
       "         nameDest  oldbalanceDest  newbalanceDest  isFraud  isFlaggedFraud  \n",
       "0     M1979787155             0.0             0.0        0               0  \n",
       "1     M2044282225             0.0             0.0        0               0  \n",
       "2      C553264065             0.0             0.0        1               0  \n",
       "3       C38997010         21182.0             0.0        1               0  \n",
       "4     M1230701703             0.0             0.0        0               0  \n",
       "...           ...             ...             ...      ...             ...  \n",
       "9995  M2128130537             0.0             0.0        0               0  \n",
       "9996  M1108211033             0.0             0.0        0               0  \n",
       "9997   M277524255             0.0             0.0        0               0  \n",
       "9998  C1935506329        103168.0             0.0        0               0  \n",
       "9999   M176755220             0.0             0.0        0               0  \n",
       "\n",
       "[10000 rows x 11 columns]"
      ]
     },
     "execution_count": 71,
     "metadata": {},
     "output_type": "execute_result"
    }
   ],
   "source": [
    "df = pd.read_csv('transactions.csv',nrows=10000)\n",
    "df"
   ]
  },
  {
   "cell_type": "code",
   "execution_count": 72,
   "metadata": {},
   "outputs": [
    {
     "name": "stdout",
     "output_type": "stream",
     "text": [
      "<class 'pandas.core.frame.DataFrame'>\n",
      "RangeIndex: 10000 entries, 0 to 9999\n",
      "Data columns (total 11 columns):\n",
      " #   Column          Non-Null Count  Dtype  \n",
      "---  ------          --------------  -----  \n",
      " 0   step            10000 non-null  int64  \n",
      " 1   type            10000 non-null  object \n",
      " 2   amount          10000 non-null  float64\n",
      " 3   nameOrig        10000 non-null  object \n",
      " 4   oldbalanceOrg   10000 non-null  float64\n",
      " 5   newbalanceOrig  10000 non-null  float64\n",
      " 6   nameDest        10000 non-null  object \n",
      " 7   oldbalanceDest  10000 non-null  float64\n",
      " 8   newbalanceDest  10000 non-null  float64\n",
      " 9   isFraud         10000 non-null  int64  \n",
      " 10  isFlaggedFraud  10000 non-null  int64  \n",
      "dtypes: float64(5), int64(3), object(3)\n",
      "memory usage: 859.5+ KB\n"
     ]
    }
   ],
   "source": [
    "df.info()"
   ]
  },
  {
   "cell_type": "code",
   "execution_count": 73,
   "metadata": {},
   "outputs": [],
   "source": [
    "################################################################\n",
    "################ Data preparation ##############################\n",
    "################################################################"
   ]
  },
  {
   "cell_type": "code",
   "execution_count": 74,
   "metadata": {},
   "outputs": [],
   "source": [
    "df = df.rename(columns={'oldbalanceOrg':'oldBalanceOrig', 'newbalanceOrig':'newBalanceOrig', 'oldbalanceDest':'oldBalanceDest', 'newbalanceDest':'newBalanceDest'})"
   ]
  },
  {
   "cell_type": "code",
   "execution_count": 75,
   "metadata": {},
   "outputs": [
    {
     "name": "stdout",
     "output_type": "stream",
     "text": [
      "Number of null values : 0\n"
     ]
    }
   ],
   "source": [
    "print('Number of null values :',df.isnull().values.sum())"
   ]
  },
  {
   "cell_type": "code",
   "execution_count": 76,
   "metadata": {},
   "outputs": [
    {
     "name": "stdout",
     "output_type": "stream",
     "text": [
      "We have 68 fraud data points and 9932 nonfraudulent data points.\n"
     ]
    }
   ],
   "source": [
    "frauds = df.loc[df['isFraud'] == 1]\n",
    "non_frauds = df.loc[df['isFraud'] == 0]\n",
    "print(\"We have\", len(frauds), \"fraud data points and\", len(non_frauds), \"nonfraudulent data points.\")"
   ]
  },
  {
   "cell_type": "code",
   "execution_count": 77,
   "metadata": {},
   "outputs": [
    {
     "data": {
      "image/png": "[encoded data removed]",
      "text/plain": [
       "<Figure size 432x288 with 1 Axes>"
      ]
     },
     "metadata": {
      "needs_background": "light"
     },
     "output_type": "display_data"
    }
   ],
   "source": [
    "ax = frauds.plot.scatter(x='amount', y='isFraud', color='Orange', label='Fraud')\n",
    "non_frauds.plot.scatter(x='amount', y='isFraud', color='Blue', label='Normal', ax=ax)\n",
    "plt.show()"
   ]
  },
  {
   "cell_type": "code",
   "execution_count": 78,
   "metadata": {},
   "outputs": [
    {
     "data": {
      "image/png": "[encoded data removed]",
      "text/plain": [
       "<Figure size 576x576 with 1 Axes>"
      ]
     },
     "metadata": {
      "needs_background": "light"
     },
     "output_type": "display_data"
    }
   ],
   "source": [
    "f, ax = plt.subplots(1, 1, figsize=(5, 3))\n",
    "df.type.value_counts().plot(kind='bar', title=\"Transaction type\", ax=ax, figsize=(8,8))\n",
    "plt.show()"
   ]
  },
  {
   "cell_type": "code",
   "execution_count": 79,
   "metadata": {},
   "outputs": [
    {
     "data": {
      "text/html": [
       "<div>\n",
       "<style scoped>\n",
       "    .dataframe tbody tr th:only-of-type {\n",
       "        vertical-align: middle;\n",
       "    }\n",
       "\n",
       "    .dataframe tbody tr th {\n",
       "        vertical-align: top;\n",
       "    }\n",
       "\n",
       "    .dataframe thead th {\n",
       "        text-align: right;\n",
       "    }\n",
       "</style>\n",
       "<table border=\"1\" class=\"dataframe\">\n",
       "  <thead>\n",
       "    <tr style=\"text-align: right;\">\n",
       "      <th></th>\n",
       "      <th>step</th>\n",
       "      <th>type</th>\n",
       "      <th>amount</th>\n",
       "      <th>nameOrig</th>\n",
       "      <th>oldBalanceOrig</th>\n",
       "      <th>newBalanceOrig</th>\n",
       "      <th>nameDest</th>\n",
       "      <th>oldBalanceDest</th>\n",
       "      <th>newBalanceDest</th>\n",
       "      <th>isFraud</th>\n",
       "      <th>isFlaggedFraud</th>\n",
       "    </tr>\n",
       "  </thead>\n",
       "  <tbody>\n",
       "    <tr>\n",
       "      <th>0</th>\n",
       "      <td>1</td>\n",
       "      <td>3</td>\n",
       "      <td>9839.64</td>\n",
       "      <td>C1231006815</td>\n",
       "      <td>170136.0</td>\n",
       "      <td>160296.36</td>\n",
       "      <td>M1979787155</td>\n",
       "      <td>0.0</td>\n",
       "      <td>0.0</td>\n",
       "      <td>0</td>\n",
       "      <td>0</td>\n",
       "    </tr>\n",
       "    <tr>\n",
       "      <th>1</th>\n",
       "      <td>1</td>\n",
       "      <td>3</td>\n",
       "      <td>1864.28</td>\n",
       "      <td>C1666544295</td>\n",
       "      <td>21249.0</td>\n",
       "      <td>19384.72</td>\n",
       "      <td>M2044282225</td>\n",
       "      <td>0.0</td>\n",
       "      <td>0.0</td>\n",
       "      <td>0</td>\n",
       "      <td>0</td>\n",
       "    </tr>\n",
       "    <tr>\n",
       "      <th>2</th>\n",
       "      <td>1</td>\n",
       "      <td>4</td>\n",
       "      <td>181.00</td>\n",
       "      <td>C1305486145</td>\n",
       "      <td>181.0</td>\n",
       "      <td>0.00</td>\n",
       "      <td>C553264065</td>\n",
       "      <td>0.0</td>\n",
       "      <td>0.0</td>\n",
       "      <td>1</td>\n",
       "      <td>0</td>\n",
       "    </tr>\n",
       "    <tr>\n",
       "      <th>3</th>\n",
       "      <td>1</td>\n",
       "      <td>1</td>\n",
       "      <td>181.00</td>\n",
       "      <td>C840083671</td>\n",
       "      <td>181.0</td>\n",
       "      <td>0.00</td>\n",
       "      <td>C38997010</td>\n",
       "      <td>21182.0</td>\n",
       "      <td>0.0</td>\n",
       "      <td>1</td>\n",
       "      <td>0</td>\n",
       "    </tr>\n",
       "    <tr>\n",
       "      <th>4</th>\n",
       "      <td>1</td>\n",
       "      <td>3</td>\n",
       "      <td>11668.14</td>\n",
       "      <td>C2048537720</td>\n",
       "      <td>41554.0</td>\n",
       "      <td>29885.86</td>\n",
       "      <td>M1230701703</td>\n",
       "      <td>0.0</td>\n",
       "      <td>0.0</td>\n",
       "      <td>0</td>\n",
       "      <td>0</td>\n",
       "    </tr>\n",
       "    <tr>\n",
       "      <th>...</th>\n",
       "      <td>...</td>\n",
       "      <td>...</td>\n",
       "      <td>...</td>\n",
       "      <td>...</td>\n",
       "      <td>...</td>\n",
       "      <td>...</td>\n",
       "      <td>...</td>\n",
       "      <td>...</td>\n",
       "      <td>...</td>\n",
       "      <td>...</td>\n",
       "      <td>...</td>\n",
       "    </tr>\n",
       "    <tr>\n",
       "      <th>9995</th>\n",
       "      <td>7</td>\n",
       "      <td>3</td>\n",
       "      <td>466.73</td>\n",
       "      <td>C517929856</td>\n",
       "      <td>881.0</td>\n",
       "      <td>414.27</td>\n",
       "      <td>M2128130537</td>\n",
       "      <td>0.0</td>\n",
       "      <td>0.0</td>\n",
       "      <td>0</td>\n",
       "      <td>0</td>\n",
       "    </tr>\n",
       "    <tr>\n",
       "      <th>9996</th>\n",
       "      <td>7</td>\n",
       "      <td>3</td>\n",
       "      <td>8239.66</td>\n",
       "      <td>C1483641522</td>\n",
       "      <td>11515.0</td>\n",
       "      <td>3275.34</td>\n",
       "      <td>M1108211033</td>\n",
       "      <td>0.0</td>\n",
       "      <td>0.0</td>\n",
       "      <td>0</td>\n",
       "      <td>0</td>\n",
       "    </tr>\n",
       "    <tr>\n",
       "      <th>9997</th>\n",
       "      <td>7</td>\n",
       "      <td>3</td>\n",
       "      <td>6063.34</td>\n",
       "      <td>C728110179</td>\n",
       "      <td>31409.0</td>\n",
       "      <td>25345.66</td>\n",
       "      <td>M277524255</td>\n",
       "      <td>0.0</td>\n",
       "      <td>0.0</td>\n",
       "      <td>0</td>\n",
       "      <td>0</td>\n",
       "    </tr>\n",
       "    <tr>\n",
       "      <th>9998</th>\n",
       "      <td>7</td>\n",
       "      <td>4</td>\n",
       "      <td>317806.64</td>\n",
       "      <td>C1021138110</td>\n",
       "      <td>10901.0</td>\n",
       "      <td>0.00</td>\n",
       "      <td>C1935506329</td>\n",
       "      <td>103168.0</td>\n",
       "      <td>0.0</td>\n",
       "      <td>0</td>\n",
       "      <td>0</td>\n",
       "    </tr>\n",
       "    <tr>\n",
       "      <th>9999</th>\n",
       "      <td>7</td>\n",
       "      <td>3</td>\n",
       "      <td>5096.16</td>\n",
       "      <td>C299358529</td>\n",
       "      <td>60472.0</td>\n",
       "      <td>55375.84</td>\n",
       "      <td>M176755220</td>\n",
       "      <td>0.0</td>\n",
       "      <td>0.0</td>\n",
       "      <td>0</td>\n",
       "      <td>0</td>\n",
       "    </tr>\n",
       "  </tbody>\n",
       "</table>\n",
       "<p>10000 rows × 11 columns</p>\n",
       "</div>"
      ],
      "text/plain": [
       "      step type     amount     nameOrig  oldBalanceOrig  newBalanceOrig  \\\n",
       "0        1    3    9839.64  C1231006815        170136.0       160296.36   \n",
       "1        1    3    1864.28  C1666544295         21249.0        19384.72   \n",
       "2        1    4     181.00  C1305486145           181.0            0.00   \n",
       "3        1    1     181.00   C840083671           181.0            0.00   \n",
       "4        1    3   11668.14  C2048537720         41554.0        29885.86   \n",
       "...    ...  ...        ...          ...             ...             ...   \n",
       "9995     7    3     466.73   C517929856           881.0          414.27   \n",
       "9996     7    3    8239.66  C1483641522         11515.0         3275.34   \n",
       "9997     7    3    6063.34   C728110179         31409.0        25345.66   \n",
       "9998     7    4  317806.64  C1021138110         10901.0            0.00   \n",
       "9999     7    3    5096.16   C299358529         60472.0        55375.84   \n",
       "\n",
       "         nameDest  oldBalanceDest  newBalanceDest  isFraud  isFlaggedFraud  \n",
       "0     M1979787155             0.0             0.0        0               0  \n",
       "1     M2044282225             0.0             0.0        0               0  \n",
       "2      C553264065             0.0             0.0        1               0  \n",
       "3       C38997010         21182.0             0.0        1               0  \n",
       "4     M1230701703             0.0             0.0        0               0  \n",
       "...           ...             ...             ...      ...             ...  \n",
       "9995  M2128130537             0.0             0.0        0               0  \n",
       "9996  M1108211033             0.0             0.0        0               0  \n",
       "9997   M277524255             0.0             0.0        0               0  \n",
       "9998  C1935506329        103168.0             0.0        0               0  \n",
       "9999   M176755220             0.0             0.0        0               0  \n",
       "\n",
       "[10000 rows x 11 columns]"
      ]
     },
     "execution_count": 79,
     "metadata": {},
     "output_type": "execute_result"
    }
   ],
   "source": [
    "df['type'] = df['type'].replace({'CASH_IN': '0', 'CASH_OUT': '1', 'DEBIT': '2', 'PAYMENT': '3', 'TRANSFER': '4'})\n",
    "df"
   ]
  },
  {
   "cell_type": "code",
   "execution_count": 80,
   "metadata": {},
   "outputs": [],
   "source": [
    "################################################################\n",
    "################ Choosing a data ###############################\n",
    "################################################################"
   ]
  },
  {
   "cell_type": "code",
   "execution_count": 81,
   "metadata": {},
   "outputs": [
    {
     "name": "stdout",
     "output_type": "stream",
     "text": [
      "X and y sizes, respectively: 10000 10000\n"
     ]
    }
   ],
   "source": [
    "X = df[['type','amount','oldBalanceOrig','newBalanceOrig','oldBalanceDest','newBalanceDest']]\n",
    "y = df['isFraud']\n",
    "print(\"X and y sizes, respectively:\", len(X), len(y))"
   ]
  },
  {
   "cell_type": "code",
   "execution_count": 82,
   "metadata": {},
   "outputs": [],
   "source": [
    "################################################################\n",
    "################ Training a modsels ############################\n",
    "################################################################"
   ]
  },
  {
   "cell_type": "code",
   "execution_count": 83,
   "metadata": {},
   "outputs": [],
   "source": [
    "X_train, X_test, y_train, y_test = train_test_split(X, y, test_size=0.35)"
   ]
  },
  {
   "cell_type": "code",
   "execution_count": 84,
   "metadata": {},
   "outputs": [
    {
     "name": "stdout",
     "output_type": "stream",
     "text": [
      "Train and test sizes, respectively: 6500 6500 | 3500 3500\n"
     ]
    }
   ],
   "source": [
    "print(\"Train and test sizes, respectively:\", len(X_train), len(y_train), \"|\", len(X_test), len(y_test))"
   ]
  },
  {
   "cell_type": "code",
   "execution_count": 85,
   "metadata": {},
   "outputs": [
    {
     "name": "stdout",
     "output_type": "stream",
     "text": [
      "Total number of frauds: 68\n"
     ]
    }
   ],
   "source": [
    "print(\"Total number of frauds:\", len(y.loc[df['isFraud'] == 1]))"
   ]
  },
  {
   "cell_type": "code",
   "execution_count": 86,
   "metadata": {},
   "outputs": [
    {
     "name": "stdout",
     "output_type": "stream",
     "text": [
      "Number of frauds on y_test: 25\n"
     ]
    }
   ],
   "source": [
    "print(\"Number of frauds on y_test:\", len(y_test.loc[df['isFraud'] == 1]))"
   ]
  },
  {
   "cell_type": "code",
   "execution_count": 87,
   "metadata": {},
   "outputs": [
    {
     "name": "stdout",
     "output_type": "stream",
     "text": [
      "Number of frauds on y_train: 43\n"
     ]
    }
   ],
   "source": [
    "print(\"Number of frauds on y_train:\", len(y_train.loc[df['isFraud'] == 1]))"
   ]
  },
  {
   "cell_type": "code",
   "execution_count": 88,
   "metadata": {},
   "outputs": [],
   "source": [
    "log_reg = LogisticRegression()\n",
    "log_reg.fit(X_train , y_train)\n",
    "y_predlog=log_reg.predict(X_test)"
   ]
  },
  {
   "cell_type": "code",
   "execution_count": 89,
   "metadata": {},
   "outputs": [],
   "source": [
    "clf = GaussianNB()\n",
    "clf.fit(X_train , y_train)\n",
    "y_predNB=clf.predict(X_test)"
   ]
  },
  {
   "cell_type": "code",
   "execution_count": 90,
   "metadata": {},
   "outputs": [],
   "source": [
    "################################################################\n",
    "################ Evaluation ####################################\n",
    "################################################################"
   ]
  },
  {
   "cell_type": "code",
   "execution_count": 91,
   "metadata": {},
   "outputs": [],
   "source": [
    "Mat_confusionlog=confusion_matrix(y_test,y_predlog)\n",
    "accuracydumodellog=accuracy_score(y_test, y_predlog)\n",
    "rappeldumodellog=recall_score(y_test, y_predlog)\n",
    "precisiondumodellog=precision_score(y_test, y_predlog)\n",
    "scoreF1dumodellog=f1_score(y_test, y_predlog)"
   ]
  },
  {
   "cell_type": "code",
   "execution_count": 92,
   "metadata": {},
   "outputs": [],
   "source": [
    "Mat_confusionNB=confusion_matrix(y_test,y_predNB)\n",
    "accuracydumodelNB=accuracy_score(y_test, y_predNB)\n",
    "rappeldumodelNB=recall_score(y_test, y_predNB)\n",
    "precisiondumodelNB=precision_score(y_test, y_predNB)\n",
    "scoreF1dumodelNB=f1_score(y_test, y_predNB)"
   ]
  },
  {
   "cell_type": "code",
   "execution_count": 93,
   "metadata": {},
   "outputs": [
    {
     "name": "stdout",
     "output_type": "stream",
     "text": [
      "la matrice de confusion du model de la regression logistique est : \n",
      "  [[3398   77]\n",
      " [   3   22]]\n",
      "la matrice de confusion du model bayesian naif est : \n",
      "  [[3433   42]\n",
      " [  22    3]]\n"
     ]
    }
   ],
   "source": [
    "print(\"la matrice de confusion du model de la regression logistique est : \\n \", Mat_confusionlog)\n",
    "print(\"la matrice de confusion du model bayesian naif est : \\n \", Mat_confusionNB)"
   ]
  },
  {
   "cell_type": "code",
   "execution_count": 94,
   "metadata": {},
   "outputs": [
    {
     "name": "stdout",
     "output_type": "stream",
     "text": [
      "l'accuracy(en %) du model de la regression logistique  est :  97.71428571428571\n",
      "l'accuracy(en %) du model bayesian naif  est :  98.17142857142858\n"
     ]
    }
   ],
   "source": [
    "print(\"l'accuracy(en %) du model de la regression logistique  est : \",accuracydumodellog*100)\n",
    "print(\"l'accuracy(en %) du model bayesian naif  est : \",accuracydumodelNB*100)"
   ]
  },
  {
   "cell_type": "code",
   "execution_count": 95,
   "metadata": {},
   "outputs": [
    {
     "name": "stdout",
     "output_type": "stream",
     "text": [
      "le rappel(en %) du model de la regression logistique  est :  88.0\n",
      "le rappel(en %) du model bayesian naif  est :  12.0\n"
     ]
    }
   ],
   "source": [
    "print(\"le rappel(en %) du model de la regression logistique  est : \",rappeldumodellog*100)\n",
    "print(\"le rappel(en %) du model bayesian naif  est : \",rappeldumodelNB*100)"
   ]
  },
  {
   "cell_type": "code",
   "execution_count": 96,
   "metadata": {},
   "outputs": [
    {
     "name": "stdout",
     "output_type": "stream",
     "text": [
      "la precision(en %) du model de la regression logistique  est :  22.22222222222222\n",
      "la precision(en %) du model bayesian naif  est :  6.666666666666667\n"
     ]
    }
   ],
   "source": [
    "print(\"la precision(en %) du model de la regression logistique  est : \",precisiondumodellog*100)\n",
    "print(\"la precision(en %) du model bayesian naif  est : \",precisiondumodelNB*100)"
   ]
  },
  {
   "cell_type": "code",
   "execution_count": 98,
   "metadata": {},
   "outputs": [
    {
     "name": "stdout",
     "output_type": "stream",
     "text": [
      "le score F1(en %) du model de la regression logistique  est :  35.48387096774193\n",
      "le Score F1(en %) du model bayesian naif  est :  8.571428571428573\n"
     ]
    }
   ],
   "source": [
    "print(\"le score F1(en %) du model de la regression logistique  est : \",scoreF1dumodellog*100)\n",
    "print(\"le Score F1(en %) du model bayesian naif  est : \",scoreF1dumodelNB*100)"
   ]
  },
  {
   "cell_type": "code",
   "execution_count": null,
   "metadata": {},
   "outputs": [],
   "source": []
  }
 ],
 "metadata": {
  "kernelspec": {
   "display_name": "Python 3",
   "language": "python",
   "name": "python3"
  },
  "language_info": {
   "codemirror_mode": {
    "name": "ipython",
    "version": 3
   },
   "file_extension": ".py",
   "mimetype": "text/x-python",
   "name": "python",
   "nbconvert_exporter": "python",
   "pygments_lexer": "ipython3",
   "version": "3.8.5"
  }
 },
 "nbformat": 4,
 "nbformat_minor": 4
}
